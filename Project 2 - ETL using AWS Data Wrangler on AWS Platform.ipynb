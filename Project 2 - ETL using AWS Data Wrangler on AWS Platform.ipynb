{
 "cells": [
  {
   "cell_type": "markdown",
   "id": "e894b19e",
   "metadata": {},
   "source": [
    "# Extract, Transform & Load on AWS platform using Python with AWS Data Wrangler\n",
    "\n",
    "Data contains list of restaurants and their menus in USA partnered with Uber Eats. <br>\n",
    "\n",
    "Dataset has 2 csv files- <br>\n",
    "1) restaurants.csv <br>\n",
    "2) restaurants-menus.csv <br>\n",
    "\n",
    "Following task will be performed on the data: <br>\n",
    "\n",
    "### Part A - AWS services\n",
    "1) Create bucket in Amazon S3 and create 2 folders - *raw_data* & *cleaned_data*. Upload the files in raw_data. <br>\n",
    "2) Create dataset in Amazon Glue. <br>\n",
    "3) Create notebook instance in Amazon Sagemaker. <br>\n",
    "4) Using IAM, add policies in IAM role created in Sagemaker notebook that allows to access S3 bucket, Glue database and Athena. <br>\n",
    "\n",
    "### Part B - Using python on Jupyter platform\n",
    "1) Open Jupyter platform from Sagemaker notebook. <br>\n",
    "2) Install AWS Data Wrangler service. Fetch the raw data. <br>\n",
    "3) Using Pandas and NumPy in python, perform data cleaning operation. <br>\n",
    "4) Store the cleaned data in the bucket-folder *cleaned files* with the help of created database in Amazon Glue. <br>\n",
    "5) To find out insights from restaurant database, write query using query function from AWS Athena in AWS Sagemaker. <br>\n"
   ]
  },
  {
   "cell_type": "markdown",
   "id": "ba160e43",
   "metadata": {},
   "source": [
    "### Install AWS Data Wrangler"
   ]
  },
  {
   "cell_type": "code",
   "execution_count": 1,
   "id": "69bfa9dc",
   "metadata": {
    "collapsed": true
   },
   "outputs": [
    {
     "name": "stdout",
     "output_type": "stream",
     "text": [
      "Looking in indexes: https://pypi.org/simple, https://pip.repos.neuron.amazonaws.com\n",
      "Collecting awswrangler\n",
      "  Downloading awswrangler-2.16.1-py3-none-any.whl (248 kB)\n",
      "\u001b[2K     \u001b[90m━━━━━━━━━━━━━━━━━━━━━━━━━━━━━━━━━━━━━━━\u001b[0m \u001b[32m248.6/248.6 KB\u001b[0m \u001b[31m4.9 MB/s\u001b[0m eta \u001b[36m0:00:00\u001b[0ma \u001b[36m0:00:01\u001b[0m\n",
      "\u001b[?25hCollecting numpy<2.0.0,>=1.21.0\n",
      "  Downloading numpy-1.23.3-cp38-cp38-manylinux_2_17_x86_64.manylinux2014_x86_64.whl (17.1 MB)\n",
      "\u001b[2K     \u001b[90m━━━━━━━━━━━━━━━━━━━━━━━━━━━━━━━━━━━━━━━━\u001b[0m \u001b[32m17.1/17.1 MB\u001b[0m \u001b[31m29.9 MB/s\u001b[0m eta \u001b[36m0:00:00\u001b[0m00:01\u001b[0m00:01\u001b[0m\n",
      "\u001b[?25hRequirement already satisfied: pandas<2.0.0,>=1.2.0 in /home/ec2-user/anaconda3/envs/python3/lib/python3.8/site-packages (from awswrangler) (1.3.4)\n",
      "Collecting requests-aws4auth<2.0.0,>=1.1.1\n",
      "  Downloading requests_aws4auth-1.1.2-py2.py3-none-any.whl (24 kB)\n",
      "Requirement already satisfied: boto3<2.0.0,>=1.20.17 in /home/ec2-user/anaconda3/envs/python3/lib/python3.8/site-packages (from awswrangler) (1.24.72)\n",
      "Collecting gremlinpython<4.0.0,>=3.5.2\n",
      "  Downloading gremlinpython-3.6.1-py2.py3-none-any.whl (73 kB)\n",
      "\u001b[2K     \u001b[90m━━━━━━━━━━━━━━━━━━━━━━━━━━━━━━━━━━━━━━━━\u001b[0m \u001b[32m73.3/73.3 KB\u001b[0m \u001b[31m18.4 MB/s\u001b[0m eta \u001b[36m0:00:00\u001b[0m\n",
      "\u001b[?25hCollecting backoff<3.0.0,>=1.11.1\n",
      "  Downloading backoff-2.1.2-py3-none-any.whl (14 kB)\n",
      "Collecting redshift-connector<2.1.0,>=2.0.889\n",
      "  Downloading redshift_connector-2.0.908-py3-none-any.whl (112 kB)\n",
      "\u001b[2K     \u001b[90m━━━━━━━━━━━━━━━━━━━━━━━━━━━━━━━━━━━━━━\u001b[0m \u001b[32m112.0/112.0 KB\u001b[0m \u001b[31m26.9 MB/s\u001b[0m eta \u001b[36m0:00:00\u001b[0m\n",
      "\u001b[?25hCollecting pymysql<2.0.0,>=1.0.0\n",
      "  Downloading PyMySQL-1.0.2-py3-none-any.whl (43 kB)\n",
      "\u001b[2K     \u001b[90m━━━━━━━━━━━━━━━━━━━━━━━━━━━━━━━━━━━━━━━━\u001b[0m \u001b[32m43.8/43.8 KB\u001b[0m \u001b[31m11.3 MB/s\u001b[0m eta \u001b[36m0:00:00\u001b[0m\n",
      "\u001b[?25hCollecting progressbar2<5.0.0,>=4.0.0\n",
      "  Downloading progressbar2-4.0.0-py2.py3-none-any.whl (26 kB)\n",
      "Collecting jsonpath-ng<2.0.0,>=1.5.3\n",
      "  Downloading jsonpath_ng-1.5.3-py3-none-any.whl (29 kB)\n",
      "Collecting opensearch-py<2.0.0,>=1.0.0\n",
      "  Downloading opensearch_py-1.1.0-py2.py3-none-any.whl (207 kB)\n",
      "\u001b[2K     \u001b[90m━━━━━━━━━━━━━━━━━━━━━━━━━━━━━━━━━━━━━━\u001b[0m \u001b[32m207.5/207.5 KB\u001b[0m \u001b[31m40.7 MB/s\u001b[0m eta \u001b[36m0:00:00\u001b[0m\n",
      "\u001b[?25hRequirement already satisfied: pyarrow<7.1.0,>=2.0.0 in /home/ec2-user/anaconda3/envs/python3/lib/python3.8/site-packages (from awswrangler) (7.0.0)\n",
      "Requirement already satisfied: botocore<2.0.0,>=1.23.17 in /home/ec2-user/anaconda3/envs/python3/lib/python3.8/site-packages (from awswrangler) (1.24.19)\n",
      "Requirement already satisfied: openpyxl<3.1.0,>=3.0.0 in /home/ec2-user/anaconda3/envs/python3/lib/python3.8/site-packages (from awswrangler) (3.0.9)\n",
      "Collecting pg8000<2.0.0,>=1.20.0\n",
      "  Downloading pg8000-1.29.1-py3-none-any.whl (34 kB)\n",
      "Collecting botocore<2.0.0,>=1.23.17\n",
      "  Downloading botocore-1.27.75-py3-none-any.whl (9.1 MB)\n",
      "\u001b[2K     \u001b[90m━━━━━━━━━━━━━━━━━━━━━━━━━━━━━━━━━━━━━━━━\u001b[0m \u001b[32m9.1/9.1 MB\u001b[0m \u001b[31m33.3 MB/s\u001b[0m eta \u001b[36m0:00:00\u001b[0m:00:01\u001b[0m00:01\u001b[0m\n",
      "\u001b[?25hRequirement already satisfied: jmespath<2.0.0,>=0.7.1 in /home/ec2-user/anaconda3/envs/python3/lib/python3.8/site-packages (from boto3<2.0.0,>=1.20.17->awswrangler) (0.10.0)\n",
      "Requirement already satisfied: s3transfer<0.7.0,>=0.6.0 in /home/ec2-user/anaconda3/envs/python3/lib/python3.8/site-packages (from boto3<2.0.0,>=1.20.17->awswrangler) (0.6.0)\n",
      "Requirement already satisfied: urllib3<1.27,>=1.25.4 in /home/ec2-user/anaconda3/envs/python3/lib/python3.8/site-packages (from botocore<2.0.0,>=1.23.17->awswrangler) (1.26.8)\n",
      "Requirement already satisfied: python-dateutil<3.0.0,>=2.1 in /home/ec2-user/anaconda3/envs/python3/lib/python3.8/site-packages (from botocore<2.0.0,>=1.23.17->awswrangler) (2.8.2)\n",
      "Collecting isodate<1.0.0,>=0.6.0\n",
      "  Downloading isodate-0.6.1-py2.py3-none-any.whl (41 kB)\n",
      "\u001b[2K     \u001b[90m━━━━━━━━━━━━━━━━━━━━━━━━━━━━━━━━━━━━━━━━\u001b[0m \u001b[32m41.7/41.7 KB\u001b[0m \u001b[31m1.0 MB/s\u001b[0m eta \u001b[36m0:00:00\u001b[0m\n",
      "\u001b[?25hCollecting aenum<4.0.0,>=1.4.5\n",
      "  Downloading aenum-3.1.11-py3-none-any.whl (131 kB)\n",
      "\u001b[2K     \u001b[90m━━━━━━━━━━━━━━━━━━━━━━━━━━━━━━━━━━━━━━\u001b[0m \u001b[32m131.5/131.5 KB\u001b[0m \u001b[31m30.3 MB/s\u001b[0m eta \u001b[36m0:00:00\u001b[0m\n",
      "\u001b[?25hRequirement already satisfied: aiohttp<=3.8.1,>=3.8.0 in /home/ec2-user/anaconda3/envs/python3/lib/python3.8/site-packages (from gremlinpython<4.0.0,>=3.5.2->awswrangler) (3.8.1)\n",
      "Requirement already satisfied: nest-asyncio in /home/ec2-user/anaconda3/envs/python3/lib/python3.8/site-packages (from gremlinpython<4.0.0,>=3.5.2->awswrangler) (1.5.1)\n",
      "Requirement already satisfied: decorator in /home/ec2-user/anaconda3/envs/python3/lib/python3.8/site-packages (from jsonpath-ng<2.0.0,>=1.5.3->awswrangler) (5.1.0)\n",
      "Requirement already satisfied: ply in /home/ec2-user/anaconda3/envs/python3/lib/python3.8/site-packages (from jsonpath-ng<2.0.0,>=1.5.3->awswrangler) (3.11)\n",
      "Requirement already satisfied: six in /home/ec2-user/anaconda3/envs/python3/lib/python3.8/site-packages (from jsonpath-ng<2.0.0,>=1.5.3->awswrangler) (1.16.0)\n",
      "Requirement already satisfied: et-xmlfile in /home/ec2-user/anaconda3/envs/python3/lib/python3.8/site-packages (from openpyxl<3.1.0,>=3.0.0->awswrangler) (1.0.1)\n",
      "Requirement already satisfied: certifi in /home/ec2-user/anaconda3/envs/python3/lib/python3.8/site-packages (from opensearch-py<2.0.0,>=1.0.0->awswrangler) (2021.10.8)\n",
      "Requirement already satisfied: pytz>=2017.3 in /home/ec2-user/anaconda3/envs/python3/lib/python3.8/site-packages (from pandas<2.0.0,>=1.2.0->awswrangler) (2021.3)\n",
      "Collecting scramp>=1.4.1\n",
      "  Downloading scramp-1.4.1-py3-none-any.whl (8.5 kB)\n",
      "Collecting python-utils>=3.0.0\n",
      "  Downloading python_utils-3.3.3-py2.py3-none-any.whl (23 kB)\n",
      "Requirement already satisfied: requests<2.28.1,>=2.23.0 in /home/ec2-user/anaconda3/envs/python3/lib/python3.8/site-packages (from redshift-connector<2.1.0,>=2.0.889->awswrangler) (2.26.0)\n",
      "Requirement already satisfied: beautifulsoup4<5.0.0,>=4.7.0 in /home/ec2-user/anaconda3/envs/python3/lib/python3.8/site-packages (from redshift-connector<2.1.0,>=2.0.889->awswrangler) (4.10.0)\n",
      "Requirement already satisfied: packaging in /home/ec2-user/anaconda3/envs/python3/lib/python3.8/site-packages (from redshift-connector<2.1.0,>=2.0.889->awswrangler) (21.3)\n",
      "Requirement already satisfied: lxml>=4.6.5 in /home/ec2-user/anaconda3/envs/python3/lib/python3.8/site-packages (from redshift-connector<2.1.0,>=2.0.889->awswrangler) (4.8.0)\n",
      "Requirement already satisfied: frozenlist>=1.1.1 in /home/ec2-user/anaconda3/envs/python3/lib/python3.8/site-packages (from aiohttp<=3.8.1,>=3.8.0->gremlinpython<4.0.0,>=3.5.2->awswrangler) (1.2.0)\n",
      "Requirement already satisfied: multidict<7.0,>=4.5 in /home/ec2-user/anaconda3/envs/python3/lib/python3.8/site-packages (from aiohttp<=3.8.1,>=3.8.0->gremlinpython<4.0.0,>=3.5.2->awswrangler) (5.2.0)\n",
      "Requirement already satisfied: attrs>=17.3.0 in /home/ec2-user/anaconda3/envs/python3/lib/python3.8/site-packages (from aiohttp<=3.8.1,>=3.8.0->gremlinpython<4.0.0,>=3.5.2->awswrangler) (21.2.0)\n",
      "Requirement already satisfied: aiosignal>=1.1.2 in /home/ec2-user/anaconda3/envs/python3/lib/python3.8/site-packages (from aiohttp<=3.8.1,>=3.8.0->gremlinpython<4.0.0,>=3.5.2->awswrangler) (1.2.0)\n",
      "Requirement already satisfied: async-timeout<5.0,>=4.0.0a3 in /home/ec2-user/anaconda3/envs/python3/lib/python3.8/site-packages (from aiohttp<=3.8.1,>=3.8.0->gremlinpython<4.0.0,>=3.5.2->awswrangler) (4.0.1)\n",
      "Requirement already satisfied: charset-normalizer<3.0,>=2.0 in /home/ec2-user/anaconda3/envs/python3/lib/python3.8/site-packages (from aiohttp<=3.8.1,>=3.8.0->gremlinpython<4.0.0,>=3.5.2->awswrangler) (2.0.8)\n",
      "Requirement already satisfied: yarl<2.0,>=1.0 in /home/ec2-user/anaconda3/envs/python3/lib/python3.8/site-packages (from aiohttp<=3.8.1,>=3.8.0->gremlinpython<4.0.0,>=3.5.2->awswrangler) (1.7.2)\n",
      "Requirement already satisfied: soupsieve>1.2 in /home/ec2-user/anaconda3/envs/python3/lib/python3.8/site-packages (from beautifulsoup4<5.0.0,>=4.7.0->redshift-connector<2.1.0,>=2.0.889->awswrangler) (2.3)\n",
      "Requirement already satisfied: idna<4,>=2.5 in /home/ec2-user/anaconda3/envs/python3/lib/python3.8/site-packages (from requests<2.28.1,>=2.23.0->redshift-connector<2.1.0,>=2.0.889->awswrangler) (3.1)\n",
      "Requirement already satisfied: asn1crypto>=1.4.0 in /home/ec2-user/anaconda3/envs/python3/lib/python3.8/site-packages (from scramp>=1.4.1->pg8000<2.0.0,>=1.20.0->awswrangler) (1.4.0)\n",
      "Requirement already satisfied: pyparsing!=3.0.5,>=2.0.2 in /home/ec2-user/anaconda3/envs/python3/lib/python3.8/site-packages (from packaging->redshift-connector<2.1.0,>=2.0.889->awswrangler) (3.0.6)\n",
      "Requirement already satisfied: typing-extensions>=3.6.5 in /home/ec2-user/anaconda3/envs/python3/lib/python3.8/site-packages (from async-timeout<5.0,>=4.0.0a3->aiohttp<=3.8.1,>=3.8.0->gremlinpython<4.0.0,>=3.5.2->awswrangler) (4.0.0)\n",
      "Installing collected packages: aenum, scramp, python-utils, pymysql, opensearch-py, numpy, jsonpath-ng, isodate, backoff, requests-aws4auth, progressbar2, pg8000, botocore, gremlinpython, redshift-connector, awswrangler\n",
      "  Attempting uninstall: numpy\n",
      "    Found existing installation: numpy 1.20.3\n",
      "    Uninstalling numpy-1.20.3:\n",
      "      Successfully uninstalled numpy-1.20.3\n",
      "  Attempting uninstall: botocore\n",
      "    Found existing installation: botocore 1.24.19\n",
      "    Uninstalling botocore-1.24.19:\n",
      "      Successfully uninstalled botocore-1.24.19\n",
      "\u001b[31mERROR: pip's dependency resolver does not currently take into account all the packages that are installed. This behaviour is the source of the following dependency conflicts.\n",
      "daal4py 2021.3.0 requires daal==2021.2.3, which is not installed.\n",
      "sagemaker-pyspark 1.4.5 requires pyspark==3.3.0, but you have pyspark 3.0.0 which is incompatible.\n",
      "numba 0.54.1 requires numpy<1.21,>=1.17, but you have numpy 1.23.3 which is incompatible.\n",
      "awscli 1.25.73 requires botocore==1.27.72, but you have botocore 1.27.75 which is incompatible.\n",
      "aiobotocore 2.0.1 requires botocore<1.22.9,>=1.22.8, but you have botocore 1.27.75 which is incompatible.\u001b[0m\u001b[31m\n",
      "\u001b[0mSuccessfully installed aenum-3.1.11 awswrangler-2.16.1 backoff-2.1.2 botocore-1.27.75 gremlinpython-3.6.1 isodate-0.6.1 jsonpath-ng-1.5.3 numpy-1.23.3 opensearch-py-1.1.0 pg8000-1.29.1 progressbar2-4.0.0 pymysql-1.0.2 python-utils-3.3.3 redshift-connector-2.0.908 requests-aws4auth-1.1.2 scramp-1.4.1\n",
      "\u001b[33mWARNING: You are using pip version 22.0.4; however, version 22.2.2 is available.\n",
      "You should consider upgrading via the '/home/ec2-user/anaconda3/envs/python3/bin/python -m pip install --upgrade pip' command.\u001b[0m\u001b[33m\n",
      "\u001b[0m"
     ]
    }
   ],
   "source": [
    "! pip install awswrangler"
   ]
  },
  {
   "cell_type": "code",
   "execution_count": 3,
   "id": "74608904",
   "metadata": {
    "collapsed": true
   },
   "outputs": [
    {
     "name": "stdout",
     "output_type": "stream",
     "text": [
      "Looking in indexes: https://pypi.org/simple, https://pip.repos.neuron.amazonaws.com\n",
      "Collecting zipfile36\n",
      "  Downloading zipfile36-0.1.3-py3-none-any.whl (20 kB)\n",
      "Installing collected packages: zipfile36\n",
      "Successfully installed zipfile36-0.1.3\n",
      "\u001b[33mWARNING: You are using pip version 22.0.4; however, version 22.2.2 is available.\n",
      "You should consider upgrading via the '/home/ec2-user/anaconda3/envs/python3/bin/python -m pip install --upgrade pip' command.\u001b[0m\u001b[33m\n",
      "\u001b[0m"
     ]
    }
   ],
   "source": [
    "!pip install zipfile36"
   ]
  },
  {
   "cell_type": "markdown",
   "id": "71bc8be5",
   "metadata": {},
   "source": [
    "### Import Libraries"
   ]
  },
  {
   "cell_type": "code",
   "execution_count": 4,
   "id": "de058773",
   "metadata": {},
   "outputs": [],
   "source": [
    "import awswrangler as wr\n",
    "import zipfile"
   ]
  },
  {
   "cell_type": "markdown",
   "id": "e2b8b307",
   "metadata": {},
   "source": [
    "### Read Data"
   ]
  },
  {
   "cell_type": "code",
   "execution_count": 14,
   "id": "fba58104",
   "metadata": {},
   "outputs": [],
   "source": [
    "r_menu = wr.s3.read_csv(path=\"s3://project-2-etl/raw_data/restaurant-menus.zip\",compression=\"zip\")\n",
    "r_list = wr.s3.read_csv(path=\"s3://project-2-etl/raw_data/restaurants.csv\")"
   ]
  },
  {
   "cell_type": "code",
   "execution_count": 15,
   "id": "3b12f101",
   "metadata": {},
   "outputs": [
    {
     "data": {
      "text/html": [
       "<div>\n",
       "<style scoped>\n",
       "    .dataframe tbody tr th:only-of-type {\n",
       "        vertical-align: middle;\n",
       "    }\n",
       "\n",
       "    .dataframe tbody tr th {\n",
       "        vertical-align: top;\n",
       "    }\n",
       "\n",
       "    .dataframe thead th {\n",
       "        text-align: right;\n",
       "    }\n",
       "</style>\n",
       "<table border=\"1\" class=\"dataframe\">\n",
       "  <thead>\n",
       "    <tr style=\"text-align: right;\">\n",
       "      <th></th>\n",
       "      <th>id</th>\n",
       "      <th>position</th>\n",
       "      <th>name</th>\n",
       "      <th>score</th>\n",
       "      <th>ratings</th>\n",
       "      <th>category</th>\n",
       "      <th>price_range</th>\n",
       "      <th>full_address</th>\n",
       "      <th>zip_code</th>\n",
       "      <th>lat</th>\n",
       "      <th>lng</th>\n",
       "    </tr>\n",
       "  </thead>\n",
       "  <tbody>\n",
       "    <tr>\n",
       "      <th>0</th>\n",
       "      <td>1</td>\n",
       "      <td>19</td>\n",
       "      <td>PJ Fresh (224 Daniel Payne Drive)</td>\n",
       "      <td>NaN</td>\n",
       "      <td>NaN</td>\n",
       "      <td>Burgers, American, Sandwiches</td>\n",
       "      <td>$</td>\n",
       "      <td>224 Daniel Payne Drive, Birmingham, AL, 35207</td>\n",
       "      <td>35207</td>\n",
       "      <td>33.562365</td>\n",
       "      <td>-86.830703</td>\n",
       "    </tr>\n",
       "  </tbody>\n",
       "</table>\n",
       "</div>"
      ],
      "text/plain": [
       "   id  position                               name  score  ratings  \\\n",
       "0   1        19  PJ Fresh (224 Daniel Payne Drive)    NaN      NaN   \n",
       "\n",
       "                        category price_range  \\\n",
       "0  Burgers, American, Sandwiches           $   \n",
       "\n",
       "                                    full_address zip_code        lat  \\\n",
       "0  224 Daniel Payne Drive, Birmingham, AL, 35207    35207  33.562365   \n",
       "\n",
       "         lng  \n",
       "0 -86.830703  "
      ]
     },
     "execution_count": 15,
     "metadata": {},
     "output_type": "execute_result"
    }
   ],
   "source": [
    "r_list.head(1)"
   ]
  },
  {
   "cell_type": "code",
   "execution_count": 16,
   "id": "cfdbb818",
   "metadata": {},
   "outputs": [
    {
     "data": {
      "text/html": [
       "<div>\n",
       "<style scoped>\n",
       "    .dataframe tbody tr th:only-of-type {\n",
       "        vertical-align: middle;\n",
       "    }\n",
       "\n",
       "    .dataframe tbody tr th {\n",
       "        vertical-align: top;\n",
       "    }\n",
       "\n",
       "    .dataframe thead th {\n",
       "        text-align: right;\n",
       "    }\n",
       "</style>\n",
       "<table border=\"1\" class=\"dataframe\">\n",
       "  <thead>\n",
       "    <tr style=\"text-align: right;\">\n",
       "      <th></th>\n",
       "      <th>restaurant_id</th>\n",
       "      <th>category</th>\n",
       "      <th>name</th>\n",
       "      <th>description</th>\n",
       "      <th>price</th>\n",
       "    </tr>\n",
       "  </thead>\n",
       "  <tbody>\n",
       "    <tr>\n",
       "      <th>0</th>\n",
       "      <td>1</td>\n",
       "      <td>Extra Large Pizza</td>\n",
       "      <td>Extra Large Meat Lovers</td>\n",
       "      <td>Whole pie.</td>\n",
       "      <td>15.99 USD</td>\n",
       "    </tr>\n",
       "  </tbody>\n",
       "</table>\n",
       "</div>"
      ],
      "text/plain": [
       "   restaurant_id           category                     name description  \\\n",
       "0              1  Extra Large Pizza  Extra Large Meat Lovers  Whole pie.   \n",
       "\n",
       "       price  \n",
       "0  15.99 USD  "
      ]
     },
     "execution_count": 16,
     "metadata": {},
     "output_type": "execute_result"
    }
   ],
   "source": [
    "r_menu.head(1)"
   ]
  },
  {
   "cell_type": "markdown",
   "id": "00c4b3ed",
   "metadata": {},
   "source": [
    "### Delete unneccesary columns"
   ]
  },
  {
   "cell_type": "code",
   "execution_count": 17,
   "id": "ed97096b",
   "metadata": {},
   "outputs": [],
   "source": [
    "r_list.drop(columns=['position','score','ratings'],inplace=True)"
   ]
  },
  {
   "cell_type": "code",
   "execution_count": 18,
   "id": "816f63ab",
   "metadata": {
    "scrolled": true
   },
   "outputs": [
    {
     "data": {
      "text/html": [
       "<div>\n",
       "<style scoped>\n",
       "    .dataframe tbody tr th:only-of-type {\n",
       "        vertical-align: middle;\n",
       "    }\n",
       "\n",
       "    .dataframe tbody tr th {\n",
       "        vertical-align: top;\n",
       "    }\n",
       "\n",
       "    .dataframe thead th {\n",
       "        text-align: right;\n",
       "    }\n",
       "</style>\n",
       "<table border=\"1\" class=\"dataframe\">\n",
       "  <thead>\n",
       "    <tr style=\"text-align: right;\">\n",
       "      <th></th>\n",
       "      <th>id</th>\n",
       "      <th>name</th>\n",
       "      <th>category</th>\n",
       "      <th>price_range</th>\n",
       "      <th>full_address</th>\n",
       "      <th>zip_code</th>\n",
       "      <th>lat</th>\n",
       "      <th>lng</th>\n",
       "    </tr>\n",
       "  </thead>\n",
       "  <tbody>\n",
       "    <tr>\n",
       "      <th>0</th>\n",
       "      <td>1</td>\n",
       "      <td>PJ Fresh (224 Daniel Payne Drive)</td>\n",
       "      <td>Burgers, American, Sandwiches</td>\n",
       "      <td>$</td>\n",
       "      <td>224 Daniel Payne Drive, Birmingham, AL, 35207</td>\n",
       "      <td>35207</td>\n",
       "      <td>33.562365</td>\n",
       "      <td>-86.830703</td>\n",
       "    </tr>\n",
       "  </tbody>\n",
       "</table>\n",
       "</div>"
      ],
      "text/plain": [
       "   id                               name                       category  \\\n",
       "0   1  PJ Fresh (224 Daniel Payne Drive)  Burgers, American, Sandwiches   \n",
       "\n",
       "  price_range                                   full_address zip_code  \\\n",
       "0           $  224 Daniel Payne Drive, Birmingham, AL, 35207    35207   \n",
       "\n",
       "         lat        lng  \n",
       "0  33.562365 -86.830703  "
      ]
     },
     "execution_count": 18,
     "metadata": {},
     "output_type": "execute_result"
    }
   ],
   "source": [
    "r_list.head(1)"
   ]
  },
  {
   "cell_type": "code",
   "execution_count": 19,
   "id": "57748304",
   "metadata": {},
   "outputs": [],
   "source": [
    "r_menu.drop(columns=['description'],inplace=True)"
   ]
  },
  {
   "cell_type": "code",
   "execution_count": 20,
   "id": "a6f68186",
   "metadata": {},
   "outputs": [
    {
     "data": {
      "text/html": [
       "<div>\n",
       "<style scoped>\n",
       "    .dataframe tbody tr th:only-of-type {\n",
       "        vertical-align: middle;\n",
       "    }\n",
       "\n",
       "    .dataframe tbody tr th {\n",
       "        vertical-align: top;\n",
       "    }\n",
       "\n",
       "    .dataframe thead th {\n",
       "        text-align: right;\n",
       "    }\n",
       "</style>\n",
       "<table border=\"1\" class=\"dataframe\">\n",
       "  <thead>\n",
       "    <tr style=\"text-align: right;\">\n",
       "      <th></th>\n",
       "      <th>restaurant_id</th>\n",
       "      <th>category</th>\n",
       "      <th>name</th>\n",
       "      <th>price</th>\n",
       "    </tr>\n",
       "  </thead>\n",
       "  <tbody>\n",
       "    <tr>\n",
       "      <th>0</th>\n",
       "      <td>1</td>\n",
       "      <td>Extra Large Pizza</td>\n",
       "      <td>Extra Large Meat Lovers</td>\n",
       "      <td>15.99 USD</td>\n",
       "    </tr>\n",
       "  </tbody>\n",
       "</table>\n",
       "</div>"
      ],
      "text/plain": [
       "   restaurant_id           category                     name      price\n",
       "0              1  Extra Large Pizza  Extra Large Meat Lovers  15.99 USD"
      ]
     },
     "execution_count": 20,
     "metadata": {},
     "output_type": "execute_result"
    }
   ],
   "source": [
    "r_menu.head(1)"
   ]
  },
  {
   "cell_type": "markdown",
   "id": "bf6c3ad9",
   "metadata": {},
   "source": [
    "### Renaming columns"
   ]
  },
  {
   "cell_type": "code",
   "execution_count": 21,
   "id": "46768dea",
   "metadata": {},
   "outputs": [],
   "source": [
    "r_list.rename(columns={'id':'restaurant_id','name':'restaurant_name','full_address':'address'},inplace=True)"
   ]
  },
  {
   "cell_type": "code",
   "execution_count": 22,
   "id": "c65c1052",
   "metadata": {},
   "outputs": [
    {
     "data": {
      "text/html": [
       "<div>\n",
       "<style scoped>\n",
       "    .dataframe tbody tr th:only-of-type {\n",
       "        vertical-align: middle;\n",
       "    }\n",
       "\n",
       "    .dataframe tbody tr th {\n",
       "        vertical-align: top;\n",
       "    }\n",
       "\n",
       "    .dataframe thead th {\n",
       "        text-align: right;\n",
       "    }\n",
       "</style>\n",
       "<table border=\"1\" class=\"dataframe\">\n",
       "  <thead>\n",
       "    <tr style=\"text-align: right;\">\n",
       "      <th></th>\n",
       "      <th>restaurant_id</th>\n",
       "      <th>restaurant_name</th>\n",
       "      <th>category</th>\n",
       "      <th>price_range</th>\n",
       "      <th>address</th>\n",
       "      <th>zip_code</th>\n",
       "      <th>lat</th>\n",
       "      <th>lng</th>\n",
       "    </tr>\n",
       "  </thead>\n",
       "  <tbody>\n",
       "    <tr>\n",
       "      <th>0</th>\n",
       "      <td>1</td>\n",
       "      <td>PJ Fresh (224 Daniel Payne Drive)</td>\n",
       "      <td>Burgers, American, Sandwiches</td>\n",
       "      <td>$</td>\n",
       "      <td>224 Daniel Payne Drive, Birmingham, AL, 35207</td>\n",
       "      <td>35207</td>\n",
       "      <td>33.562365</td>\n",
       "      <td>-86.830703</td>\n",
       "    </tr>\n",
       "  </tbody>\n",
       "</table>\n",
       "</div>"
      ],
      "text/plain": [
       "   restaurant_id                    restaurant_name  \\\n",
       "0              1  PJ Fresh (224 Daniel Payne Drive)   \n",
       "\n",
       "                        category price_range  \\\n",
       "0  Burgers, American, Sandwiches           $   \n",
       "\n",
       "                                         address zip_code        lat  \\\n",
       "0  224 Daniel Payne Drive, Birmingham, AL, 35207    35207  33.562365   \n",
       "\n",
       "         lng  \n",
       "0 -86.830703  "
      ]
     },
     "execution_count": 22,
     "metadata": {},
     "output_type": "execute_result"
    }
   ],
   "source": [
    "r_list.head(1)"
   ]
  },
  {
   "cell_type": "code",
   "execution_count": 23,
   "id": "1036ba62",
   "metadata": {},
   "outputs": [],
   "source": [
    "r_menu.rename(columns={'category':'menu','name':'dish_name','price':'price_USD'},inplace=True)"
   ]
  },
  {
   "cell_type": "code",
   "execution_count": 24,
   "id": "ecff5420",
   "metadata": {},
   "outputs": [
    {
     "data": {
      "text/html": [
       "<div>\n",
       "<style scoped>\n",
       "    .dataframe tbody tr th:only-of-type {\n",
       "        vertical-align: middle;\n",
       "    }\n",
       "\n",
       "    .dataframe tbody tr th {\n",
       "        vertical-align: top;\n",
       "    }\n",
       "\n",
       "    .dataframe thead th {\n",
       "        text-align: right;\n",
       "    }\n",
       "</style>\n",
       "<table border=\"1\" class=\"dataframe\">\n",
       "  <thead>\n",
       "    <tr style=\"text-align: right;\">\n",
       "      <th></th>\n",
       "      <th>restaurant_id</th>\n",
       "      <th>menu</th>\n",
       "      <th>dish_name</th>\n",
       "      <th>price_USD</th>\n",
       "    </tr>\n",
       "  </thead>\n",
       "  <tbody>\n",
       "    <tr>\n",
       "      <th>0</th>\n",
       "      <td>1</td>\n",
       "      <td>Extra Large Pizza</td>\n",
       "      <td>Extra Large Meat Lovers</td>\n",
       "      <td>15.99 USD</td>\n",
       "    </tr>\n",
       "  </tbody>\n",
       "</table>\n",
       "</div>"
      ],
      "text/plain": [
       "   restaurant_id               menu                dish_name  price_USD\n",
       "0              1  Extra Large Pizza  Extra Large Meat Lovers  15.99 USD"
      ]
     },
     "execution_count": 24,
     "metadata": {},
     "output_type": "execute_result"
    }
   ],
   "source": [
    "r_menu.head(1)"
   ]
  },
  {
   "cell_type": "markdown",
   "id": "b6e3a095",
   "metadata": {},
   "source": [
    "### Dropping Nan values"
   ]
  },
  {
   "cell_type": "code",
   "execution_count": 25,
   "id": "c78c6325",
   "metadata": {},
   "outputs": [
    {
     "data": {
      "text/plain": [
       "restaurant_id  restaurant_name  category  price_range  address  zip_code  lat    lng  \n",
       "False          False            False     False        False    False     False  False    33399\n",
       "                                          True         False    False     False  False     6527\n",
       "                                          False        True     True      False  False      172\n",
       "                                          True         True     True      False  False      106\n",
       "                                True      False        False    False     False  False       10\n",
       "                                          True         False    True      False  False        9\n",
       "                                                                False     False  False        4\n",
       "dtype: int64"
      ]
     },
     "execution_count": 25,
     "metadata": {},
     "output_type": "execute_result"
    }
   ],
   "source": [
    "r_list.isna().value_counts()"
   ]
  },
  {
   "cell_type": "markdown",
   "id": "dbe11642",
   "metadata": {},
   "source": [
    "Dropping only those rows whose address and zip code is not available"
   ]
  },
  {
   "cell_type": "code",
   "execution_count": 26,
   "id": "4197808a",
   "metadata": {},
   "outputs": [],
   "source": [
    "r_list.dropna(inplace=True)"
   ]
  },
  {
   "cell_type": "code",
   "execution_count": 27,
   "id": "29b5cae1",
   "metadata": {},
   "outputs": [
    {
     "data": {
      "text/plain": [
       "restaurant_id  restaurant_name  category  price_range  address  zip_code  lat    lng  \n",
       "False          False            False     False        False    False     False  False    33399\n",
       "dtype: int64"
      ]
     },
     "execution_count": 27,
     "metadata": {},
     "output_type": "execute_result"
    }
   ],
   "source": [
    "r_list.isna().value_counts()"
   ]
  },
  {
   "cell_type": "code",
   "execution_count": 28,
   "id": "f31c38d3",
   "metadata": {},
   "outputs": [
    {
     "data": {
      "text/plain": [
       "restaurant_id  menu   dish_name  price_USD\n",
       "False          False  False      False        3375211\n",
       "dtype: int64"
      ]
     },
     "execution_count": 28,
     "metadata": {},
     "output_type": "execute_result"
    }
   ],
   "source": [
    "r_menu.isna().value_counts()"
   ]
  },
  {
   "cell_type": "markdown",
   "id": "f9865e3f",
   "metadata": {},
   "source": [
    "### Cleaning Individual Columns and Duplicate values"
   ]
  },
  {
   "cell_type": "markdown",
   "id": "89793ef5",
   "metadata": {},
   "source": [
    "* Restaurant List\n",
    "\n",
    "Check column : *restaurant_name* with *address,zip_code,lat,lng*"
   ]
  },
  {
   "cell_type": "code",
   "execution_count": 29,
   "id": "bc23908b",
   "metadata": {},
   "outputs": [
    {
     "data": {
      "text/plain": [
       "False    33382\n",
       "True        17\n",
       "dtype: int64"
      ]
     },
     "execution_count": 29,
     "metadata": {},
     "output_type": "execute_result"
    }
   ],
   "source": [
    "r_list.duplicated(subset=['restaurant_name','address','zip_code','lat','lng']).value_counts()"
   ]
  },
  {
   "cell_type": "code",
   "execution_count": 30,
   "id": "e07295af",
   "metadata": {},
   "outputs": [],
   "source": [
    "r_list.drop_duplicates(subset=['restaurant_name','address','zip_code','lat','lng'],keep='last',inplace=True)"
   ]
  },
  {
   "cell_type": "code",
   "execution_count": 31,
   "id": "1f2fc614",
   "metadata": {},
   "outputs": [
    {
     "data": {
      "text/plain": [
       "False    33382\n",
       "dtype: int64"
      ]
     },
     "execution_count": 31,
     "metadata": {},
     "output_type": "execute_result"
    }
   ],
   "source": [
    "r_list.duplicated(subset=['restaurant_name','address','zip_code','lat','lng']).value_counts()"
   ]
  },
  {
   "cell_type": "markdown",
   "id": "1cf6b6d1",
   "metadata": {},
   "source": [
    "Check column : *zip_code* : Considering 5 digit zipcode, the 1st 5 digits were considered as zipcode; for all other cases rows were deleted"
   ]
  },
  {
   "cell_type": "code",
   "execution_count": 32,
   "id": "65996c16",
   "metadata": {},
   "outputs": [],
   "source": [
    "zip = lambda x: x[:5]\n",
    "\n",
    "list = []\n",
    "\n",
    "for a in map(zip,r_list['zip_code']):\n",
    "    try:\n",
    "        var = int(a)\n",
    "        list.append(var)           \n",
    "    except ValueError:\n",
    "        var = ''\n",
    "        list.append(var)\n",
    "r_list['zip_code']=list"
   ]
  },
  {
   "cell_type": "code",
   "execution_count": 33,
   "id": "25f86fb5",
   "metadata": {},
   "outputs": [
    {
     "name": "stdout",
     "output_type": "stream",
     "text": [
      "<class 'pandas.core.frame.DataFrame'>\n",
      "Int64Index: 33377 entries, 0 to 40226\n",
      "Data columns (total 8 columns):\n",
      " #   Column           Non-Null Count  Dtype  \n",
      "---  ------           --------------  -----  \n",
      " 0   restaurant_id    33377 non-null  int64  \n",
      " 1   restaurant_name  33377 non-null  object \n",
      " 2   category         33377 non-null  object \n",
      " 3   price_range      33377 non-null  object \n",
      " 4   address          33377 non-null  object \n",
      " 5   zip_code         33377 non-null  int64  \n",
      " 6   lat              33377 non-null  float64\n",
      " 7   lng              33377 non-null  float64\n",
      "dtypes: float64(2), int64(2), object(4)\n",
      "memory usage: 2.3+ MB\n"
     ]
    }
   ],
   "source": [
    "r_list = r_list[r_list['zip_code']!='']\n",
    "r_list['zip_code'] = r_list['zip_code'].astype(int)\n",
    "r_list.info()"
   ]
  },
  {
   "cell_type": "markdown",
   "id": "dd175e5d",
   "metadata": {},
   "source": [
    "* Restaurant Menu\n",
    "\n",
    "Check column : *restaurant_name*"
   ]
  },
  {
   "cell_type": "code",
   "execution_count": 34,
   "id": "90365969",
   "metadata": {},
   "outputs": [
    {
     "data": {
      "text/plain": [
       "False    3345541\n",
       "True       29670\n",
       "dtype: int64"
      ]
     },
     "execution_count": 34,
     "metadata": {},
     "output_type": "execute_result"
    }
   ],
   "source": [
    "r_menu.duplicated().value_counts()"
   ]
  },
  {
   "cell_type": "code",
   "execution_count": 35,
   "id": "612f5ab6",
   "metadata": {},
   "outputs": [],
   "source": [
    "r_menu.drop_duplicates(keep='last',inplace=True)"
   ]
  },
  {
   "cell_type": "code",
   "execution_count": 36,
   "id": "f455a16f",
   "metadata": {},
   "outputs": [
    {
     "data": {
      "text/plain": [
       "False    3345541\n",
       "dtype: int64"
      ]
     },
     "execution_count": 36,
     "metadata": {},
     "output_type": "execute_result"
    }
   ],
   "source": [
    "r_menu.duplicated().value_counts()"
   ]
  },
  {
   "cell_type": "markdown",
   "id": "b46f0864",
   "metadata": {},
   "source": [
    "Check column : *price* : Column will be converted into float type after removing USD."
   ]
  },
  {
   "cell_type": "code",
   "execution_count": 37,
   "id": "54356444",
   "metadata": {},
   "outputs": [],
   "source": [
    "r_menu['price_USD'] = r_menu['price_USD'].str.extract(r'(^\\d*.\\d*)',expand=False).astype(float)"
   ]
  },
  {
   "cell_type": "code",
   "execution_count": 49,
   "id": "e8f9bb4c",
   "metadata": {},
   "outputs": [
    {
     "name": "stdout",
     "output_type": "stream",
     "text": [
      "<class 'pandas.core.frame.DataFrame'>\n",
      "Int64Index: 3345541 entries, 0 to 3375210\n",
      "Data columns (total 4 columns):\n",
      " #   Column         Dtype  \n",
      "---  ------         -----  \n",
      " 0   restaurant_id  int64  \n",
      " 1   menu           object \n",
      " 2   dish_name      object \n",
      " 3   price_usd      float64\n",
      "dtypes: float64(1), int64(1), object(2)\n",
      "memory usage: 127.6+ MB\n"
     ]
    },
    {
     "data": {
      "text/html": [
       "<div>\n",
       "<style scoped>\n",
       "    .dataframe tbody tr th:only-of-type {\n",
       "        vertical-align: middle;\n",
       "    }\n",
       "\n",
       "    .dataframe tbody tr th {\n",
       "        vertical-align: top;\n",
       "    }\n",
       "\n",
       "    .dataframe thead th {\n",
       "        text-align: right;\n",
       "    }\n",
       "</style>\n",
       "<table border=\"1\" class=\"dataframe\">\n",
       "  <thead>\n",
       "    <tr style=\"text-align: right;\">\n",
       "      <th></th>\n",
       "      <th>restaurant_id</th>\n",
       "      <th>menu</th>\n",
       "      <th>dish_name</th>\n",
       "      <th>price_usd</th>\n",
       "    </tr>\n",
       "  </thead>\n",
       "  <tbody>\n",
       "    <tr>\n",
       "      <th>0</th>\n",
       "      <td>1</td>\n",
       "      <td>Extra Large Pizza</td>\n",
       "      <td>Extra Large Meat Lovers</td>\n",
       "      <td>15.99</td>\n",
       "    </tr>\n",
       "    <tr>\n",
       "      <th>1</th>\n",
       "      <td>1</td>\n",
       "      <td>Extra Large Pizza</td>\n",
       "      <td>Extra Large Supreme</td>\n",
       "      <td>15.99</td>\n",
       "    </tr>\n",
       "    <tr>\n",
       "      <th>2</th>\n",
       "      <td>1</td>\n",
       "      <td>Extra Large Pizza</td>\n",
       "      <td>Extra Large Pepperoni</td>\n",
       "      <td>14.99</td>\n",
       "    </tr>\n",
       "  </tbody>\n",
       "</table>\n",
       "</div>"
      ],
      "text/plain": [
       "   restaurant_id               menu                dish_name  price_usd\n",
       "0              1  Extra Large Pizza  Extra Large Meat Lovers      15.99\n",
       "1              1  Extra Large Pizza      Extra Large Supreme      15.99\n",
       "2              1  Extra Large Pizza    Extra Large Pepperoni      14.99"
      ]
     },
     "execution_count": 49,
     "metadata": {},
     "output_type": "execute_result"
    }
   ],
   "source": [
    "r_menu.info()\n",
    "r_menu.head(3)"
   ]
  },
  {
   "cell_type": "markdown",
   "id": "db1ca95a",
   "metadata": {},
   "source": [
    "### Storing the cleaned files in S3 bucket having cleaned_data folder\n",
    "\n",
    "To utilise space appropriately, *r_menu and r_list* dataframe was stored in parquet format."
   ]
  },
  {
   "cell_type": "code",
   "execution_count": 42,
   "id": "bfe5f788",
   "metadata": {},
   "outputs": [
    {
     "data": {
      "text/plain": [
       "{'paths': ['s3://project-2-etl/cleaned_data/restaurant_list/2f5217fa3adb4b36ae75245b03abb972.snappy.parquet'],\n",
       " 'partitions_values': {}}"
      ]
     },
     "execution_count": 42,
     "metadata": {},
     "output_type": "execute_result"
    }
   ],
   "source": [
    "wr.s3.to_parquet(df=r_list,path=\"s3://project-2-etl/cleaned_data/restaurant_list/\",dataset=True,database=\"project-2-etl-database\",table=\"restaurant_list\")"
   ]
  },
  {
   "cell_type": "code",
   "execution_count": 50,
   "id": "a9c492aa",
   "metadata": {},
   "outputs": [
    {
     "data": {
      "text/plain": [
       "{'paths': ['s3://project-2-etl/cleaned_data/restaurants_menu/4d2a2bb40c924cc797e836ec6b8d7991.snappy.parquet'],\n",
       " 'partitions_values': {}}"
      ]
     },
     "execution_count": 50,
     "metadata": {},
     "output_type": "execute_result"
    }
   ],
   "source": [
    "wr.s3.to_parquet(df=r_menu,path=\"s3://project-2-etl/cleaned_data/restaurants_menu/\",dataset=True,database=\"project-2-etl-database\",table=\"restaurants_menu\")"
   ]
  },
  {
   "cell_type": "markdown",
   "id": "a690eefe",
   "metadata": {},
   "source": [
    "### Query the required results\n",
    "\n",
    "The query can be performed using AWS Athena also. But query is performed form this notebook by integrating Athena with the help of AWS Data Wrangler."
   ]
  },
  {
   "cell_type": "markdown",
   "id": "27e1ea99",
   "metadata": {},
   "source": [
    "1) Query to find restaurants starting with *Al*"
   ]
  },
  {
   "cell_type": "code",
   "execution_count": 82,
   "id": "c5be90cb",
   "metadata": {},
   "outputs": [],
   "source": [
    "sql_query_1 = \"\"\"\n",
    "SELECT restaurant_name,price_range,address\n",
    "FROM restaurant_list\n",
    "WHERE restaurant_name LIKE 'Al%'\n",
    "\"\"\""
   ]
  },
  {
   "cell_type": "code",
   "execution_count": 83,
   "id": "79cf80f0",
   "metadata": {},
   "outputs": [],
   "source": [
    "r_list_query = wr.athena.read_sql_query(sql_query_1,database=\"project-2-etl-database\")"
   ]
  },
  {
   "cell_type": "code",
   "execution_count": 84,
   "id": "d642a11d",
   "metadata": {},
   "outputs": [
    {
     "data": {
      "text/html": [
       "<div>\n",
       "<style scoped>\n",
       "    .dataframe tbody tr th:only-of-type {\n",
       "        vertical-align: middle;\n",
       "    }\n",
       "\n",
       "    .dataframe tbody tr th {\n",
       "        vertical-align: top;\n",
       "    }\n",
       "\n",
       "    .dataframe thead th {\n",
       "        text-align: right;\n",
       "    }\n",
       "</style>\n",
       "<table border=\"1\" class=\"dataframe\">\n",
       "  <thead>\n",
       "    <tr style=\"text-align: right;\">\n",
       "      <th></th>\n",
       "      <th>restaurant_name</th>\n",
       "      <th>price_range</th>\n",
       "      <th>address</th>\n",
       "    </tr>\n",
       "  </thead>\n",
       "  <tbody>\n",
       "    <tr>\n",
       "      <th>0</th>\n",
       "      <td>Allstar Diner</td>\n",
       "      <td>$</td>\n",
       "      <td>5704 Birmingport Rd, Sylvan Springs, AL, 35118</td>\n",
       "    </tr>\n",
       "    <tr>\n",
       "      <th>1</th>\n",
       "      <td>All Original Pizzeria</td>\n",
       "      <td>$$</td>\n",
       "      <td>215, Helena, AL, 35080</td>\n",
       "    </tr>\n",
       "    <tr>\n",
       "      <th>2</th>\n",
       "      <td>Aloha Hawaiian Grill</td>\n",
       "      <td>$$</td>\n",
       "      <td>25771 Perdido Beach Boulevard, Orange Beach, A...</td>\n",
       "    </tr>\n",
       "    <tr>\n",
       "      <th>3</th>\n",
       "      <td>Albertsons Express (105 Buffalo Way)</td>\n",
       "      <td>$</td>\n",
       "      <td>105 Buffalo Way, Jackson, WY, 83001</td>\n",
       "    </tr>\n",
       "    <tr>\n",
       "      <th>4</th>\n",
       "      <td>Albertsons Express (5800 Yellowstone Rd)</td>\n",
       "      <td>$</td>\n",
       "      <td>5800 Yellowstone Rd, Cheyenne, WY, 82009</td>\n",
       "    </tr>\n",
       "    <tr>\n",
       "      <th>...</th>\n",
       "      <td>...</td>\n",
       "      <td>...</td>\n",
       "      <td>...</td>\n",
       "    </tr>\n",
       "    <tr>\n",
       "      <th>145</th>\n",
       "      <td>All About Breakfast (5610 North Interstate Hig...</td>\n",
       "      <td>$$</td>\n",
       "      <td>5610 North Interstate Highway 35, Austin, TX, ...</td>\n",
       "    </tr>\n",
       "    <tr>\n",
       "      <th>146</th>\n",
       "      <td>Aleida’s Restaurant</td>\n",
       "      <td>$</td>\n",
       "      <td>2011 little elm trl #106 cedar park tx78613, C...</td>\n",
       "    </tr>\n",
       "    <tr>\n",
       "      <th>147</th>\n",
       "      <td>All About Breakfast (200 Buttercup Creek Boule...</td>\n",
       "      <td>$$</td>\n",
       "      <td>200 Buttercup Creek Boulevard, Cedar Park, TX,...</td>\n",
       "    </tr>\n",
       "    <tr>\n",
       "      <th>148</th>\n",
       "      <td>All Star Burger (Bee Cave)</td>\n",
       "      <td>$</td>\n",
       "      <td>12921 Hill Country Blvd, Bee Cave, TX, 78738</td>\n",
       "    </tr>\n",
       "    <tr>\n",
       "      <th>149</th>\n",
       "      <td>Almarah Mediterranean Cuisine (Ranch Rd)</td>\n",
       "      <td>$</td>\n",
       "      <td>12129 Ranch Rd 620 N, Austin, TX, 78750</td>\n",
       "    </tr>\n",
       "  </tbody>\n",
       "</table>\n",
       "<p>150 rows × 3 columns</p>\n",
       "</div>"
      ],
      "text/plain": [
       "                                       restaurant_name price_range  \\\n",
       "0                                        Allstar Diner           $   \n",
       "1                                All Original Pizzeria          $$   \n",
       "2                                 Aloha Hawaiian Grill          $$   \n",
       "3                 Albertsons Express (105 Buffalo Way)           $   \n",
       "4             Albertsons Express (5800 Yellowstone Rd)           $   \n",
       "..                                                 ...         ...   \n",
       "145  All About Breakfast (5610 North Interstate Hig...          $$   \n",
       "146                                Aleida’s Restaurant           $   \n",
       "147  All About Breakfast (200 Buttercup Creek Boule...          $$   \n",
       "148                         All Star Burger (Bee Cave)           $   \n",
       "149           Almarah Mediterranean Cuisine (Ranch Rd)           $   \n",
       "\n",
       "                                               address  \n",
       "0       5704 Birmingport Rd, Sylvan Springs, AL, 35118  \n",
       "1                               215, Helena, AL, 35080  \n",
       "2    25771 Perdido Beach Boulevard, Orange Beach, A...  \n",
       "3                  105 Buffalo Way, Jackson, WY, 83001  \n",
       "4             5800 Yellowstone Rd, Cheyenne, WY, 82009  \n",
       "..                                                 ...  \n",
       "145  5610 North Interstate Highway 35, Austin, TX, ...  \n",
       "146  2011 little elm trl #106 cedar park tx78613, C...  \n",
       "147  200 Buttercup Creek Boulevard, Cedar Park, TX,...  \n",
       "148       12921 Hill Country Blvd, Bee Cave, TX, 78738  \n",
       "149            12129 Ranch Rd 620 N, Austin, TX, 78750  \n",
       "\n",
       "[150 rows x 3 columns]"
      ]
     },
     "execution_count": 84,
     "metadata": {},
     "output_type": "execute_result"
    }
   ],
   "source": [
    "r_list_query"
   ]
  },
  {
   "cell_type": "markdown",
   "id": "8fe576d4",
   "metadata": {},
   "source": [
    "2) Query to find Restaurants starting with *R* with *pizza* in the menu having *price* between *10 & 40 USD* "
   ]
  },
  {
   "cell_type": "code",
   "execution_count": 85,
   "id": "773b6c94",
   "metadata": {},
   "outputs": [],
   "source": [
    "sql_query_2 = \"\"\"\n",
    "SELECT \n",
    "    restaurant_list.restaurant_name\n",
    "    ,restaurants_menu.restaurant_id\n",
    "    ,restaurants_menu.menu\n",
    "    ,restaurants_menu.dish_name\n",
    "    ,restaurants_menu.price_USD\n",
    "FROM restaurant_list\n",
    "INNER JOIN restaurants_menu\n",
    "ON restaurant_list.restaurant_id=restaurants_menu.restaurant_id\n",
    "WHERE (price_USD BETWEEN 10 AND 40)  AND menu LIKE '%pizza%' AND restaurant_name LIKE 'R%'\n",
    "\"\"\""
   ]
  },
  {
   "cell_type": "code",
   "execution_count": 86,
   "id": "7a984f20",
   "metadata": {},
   "outputs": [],
   "source": [
    "r_comb_query = wr.athena.read_sql_query(sql_query_2,database=\"project-2-etl-database\")"
   ]
  },
  {
   "cell_type": "code",
   "execution_count": 87,
   "id": "e6abee69",
   "metadata": {
    "scrolled": false
   },
   "outputs": [
    {
     "data": {
      "text/html": [
       "<div>\n",
       "<style scoped>\n",
       "    .dataframe tbody tr th:only-of-type {\n",
       "        vertical-align: middle;\n",
       "    }\n",
       "\n",
       "    .dataframe tbody tr th {\n",
       "        vertical-align: top;\n",
       "    }\n",
       "\n",
       "    .dataframe thead th {\n",
       "        text-align: right;\n",
       "    }\n",
       "</style>\n",
       "<table border=\"1\" class=\"dataframe\">\n",
       "  <thead>\n",
       "    <tr style=\"text-align: right;\">\n",
       "      <th></th>\n",
       "      <th>restaurant_name</th>\n",
       "      <th>restaurant_id</th>\n",
       "      <th>menu</th>\n",
       "      <th>dish_name</th>\n",
       "      <th>price_usd</th>\n",
       "    </tr>\n",
       "  </thead>\n",
       "  <tbody>\n",
       "    <tr>\n",
       "      <th>0</th>\n",
       "      <td>Romio's Pizza &amp;amp; Pasta (Redmond)</td>\n",
       "      <td>9343</td>\n",
       "      <td>Italian specialty pizzas</td>\n",
       "      <td>Zorba Specialty Pizza - 18'' - X-Large</td>\n",
       "      <td>33.19</td>\n",
       "    </tr>\n",
       "    <tr>\n",
       "      <th>1</th>\n",
       "      <td>Romio's Pizza &amp;amp; Pasta (Redmond)</td>\n",
       "      <td>9343</td>\n",
       "      <td>Italian specialty pizzas</td>\n",
       "      <td>Zorba Specialty Pizza - 15'' - Large</td>\n",
       "      <td>27.85</td>\n",
       "    </tr>\n",
       "    <tr>\n",
       "      <th>2</th>\n",
       "      <td>Romio's Pizza &amp;amp; Pasta (Redmond)</td>\n",
       "      <td>9343</td>\n",
       "      <td>Italian specialty pizzas</td>\n",
       "      <td>Zorba Specialty Pizza - 12'' - Medium</td>\n",
       "      <td>22.49</td>\n",
       "    </tr>\n",
       "    <tr>\n",
       "      <th>3</th>\n",
       "      <td>Romio's Pizza &amp;amp; Pasta (Redmond)</td>\n",
       "      <td>9343</td>\n",
       "      <td>Italian specialty pizzas</td>\n",
       "      <td>Zorba Specialty Pizza - 10'' - Small</td>\n",
       "      <td>17.15</td>\n",
       "    </tr>\n",
       "    <tr>\n",
       "      <th>4</th>\n",
       "      <td>Romio's Pizza &amp;amp; Pasta (Redmond)</td>\n",
       "      <td>9343</td>\n",
       "      <td>Italian specialty pizzas</td>\n",
       "      <td>Zeus Specialty Pizza - 18'' - X-Large</td>\n",
       "      <td>33.19</td>\n",
       "    </tr>\n",
       "    <tr>\n",
       "      <th>...</th>\n",
       "      <td>...</td>\n",
       "      <td>...</td>\n",
       "      <td>...</td>\n",
       "      <td>...</td>\n",
       "      <td>...</td>\n",
       "    </tr>\n",
       "    <tr>\n",
       "      <th>81</th>\n",
       "      <td>Rocco's</td>\n",
       "      <td>15345</td>\n",
       "      <td>Specialty Pizzas. 20\" or Half of a 20\" pizza</td>\n",
       "      <td>Cousin Margaret (Margherita)</td>\n",
       "      <td>31.00</td>\n",
       "    </tr>\n",
       "    <tr>\n",
       "      <th>82</th>\n",
       "      <td>Rocco's</td>\n",
       "      <td>15345</td>\n",
       "      <td>Specialty Pizzas. 20\" or Half of a 20\" pizza</td>\n",
       "      <td>Chilango</td>\n",
       "      <td>37.00</td>\n",
       "    </tr>\n",
       "    <tr>\n",
       "      <th>83</th>\n",
       "      <td>Rocco's</td>\n",
       "      <td>15345</td>\n",
       "      <td>Specialty Pizzas. 20\" or Half of a 20\" pizza</td>\n",
       "      <td>Chicken Pesto</td>\n",
       "      <td>39.00</td>\n",
       "    </tr>\n",
       "    <tr>\n",
       "      <th>84</th>\n",
       "      <td>Rocco's</td>\n",
       "      <td>15345</td>\n",
       "      <td>Specialty Pizzas. 20\" or Half of a 20\" pizza</td>\n",
       "      <td>BBQ Pizza</td>\n",
       "      <td>39.00</td>\n",
       "    </tr>\n",
       "    <tr>\n",
       "      <th>85</th>\n",
       "      <td>Rocco's</td>\n",
       "      <td>15345</td>\n",
       "      <td>Specialty Pizzas. 20\" or Half of a 20\" pizza</td>\n",
       "      <td>Banh Mi Pizza</td>\n",
       "      <td>39.00</td>\n",
       "    </tr>\n",
       "  </tbody>\n",
       "</table>\n",
       "<p>86 rows × 5 columns</p>\n",
       "</div>"
      ],
      "text/plain": [
       "                        restaurant_name  restaurant_id  \\\n",
       "0   Romio's Pizza &amp; Pasta (Redmond)           9343   \n",
       "1   Romio's Pizza &amp; Pasta (Redmond)           9343   \n",
       "2   Romio's Pizza &amp; Pasta (Redmond)           9343   \n",
       "3   Romio's Pizza &amp; Pasta (Redmond)           9343   \n",
       "4   Romio's Pizza &amp; Pasta (Redmond)           9343   \n",
       "..                                  ...            ...   \n",
       "81                              Rocco's          15345   \n",
       "82                              Rocco's          15345   \n",
       "83                              Rocco's          15345   \n",
       "84                              Rocco's          15345   \n",
       "85                              Rocco's          15345   \n",
       "\n",
       "                                            menu  \\\n",
       "0                       Italian specialty pizzas   \n",
       "1                       Italian specialty pizzas   \n",
       "2                       Italian specialty pizzas   \n",
       "3                       Italian specialty pizzas   \n",
       "4                       Italian specialty pizzas   \n",
       "..                                           ...   \n",
       "81  Specialty Pizzas. 20\" or Half of a 20\" pizza   \n",
       "82  Specialty Pizzas. 20\" or Half of a 20\" pizza   \n",
       "83  Specialty Pizzas. 20\" or Half of a 20\" pizza   \n",
       "84  Specialty Pizzas. 20\" or Half of a 20\" pizza   \n",
       "85  Specialty Pizzas. 20\" or Half of a 20\" pizza   \n",
       "\n",
       "                                 dish_name  price_usd  \n",
       "0   Zorba Specialty Pizza - 18'' - X-Large      33.19  \n",
       "1     Zorba Specialty Pizza - 15'' - Large      27.85  \n",
       "2    Zorba Specialty Pizza - 12'' - Medium      22.49  \n",
       "3     Zorba Specialty Pizza - 10'' - Small      17.15  \n",
       "4    Zeus Specialty Pizza - 18'' - X-Large      33.19  \n",
       "..                                     ...        ...  \n",
       "81            Cousin Margaret (Margherita)      31.00  \n",
       "82                                Chilango      37.00  \n",
       "83                           Chicken Pesto      39.00  \n",
       "84                               BBQ Pizza      39.00  \n",
       "85                           Banh Mi Pizza      39.00  \n",
       "\n",
       "[86 rows x 5 columns]"
      ]
     },
     "execution_count": 87,
     "metadata": {},
     "output_type": "execute_result"
    }
   ],
   "source": [
    "r_comb_query"
   ]
  }
 ],
 "metadata": {
  "kernelspec": {
   "display_name": "conda_python3",
   "language": "python",
   "name": "conda_python3"
  },
  "language_info": {
   "codemirror_mode": {
    "name": "ipython",
    "version": 3
   },
   "file_extension": ".py",
   "mimetype": "text/x-python",
   "name": "python",
   "nbconvert_exporter": "python",
   "pygments_lexer": "ipython3",
   "version": "3.8.12"
  }
 },
 "nbformat": 4,
 "nbformat_minor": 5
}
